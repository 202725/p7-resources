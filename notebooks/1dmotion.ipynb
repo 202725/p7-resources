{
 "cells": [
  {
   "cell_type": "markdown",
   "metadata": {},
   "source": [
    "# One dimensional Motion"
   ]
  },
  {
   "cell_type": "markdown",
   "metadata": {},
   "source": [
    "Motion is a change in position of an object with respect to time. Motion is described in terms of displacement(x), time(t), velocity(v), and acceleration(a)."
   ]
  },
  {
   "cell_type": "markdown",
   "metadata": {
    "collapsed": true
   },
   "source": [
    "Displacement is defined to be the change in position of an object. Displacement can be described as the following:"
   ]
  },
  {
   "cell_type": "markdown",
   "metadata": {
    "collapsed": true
   },
   "source": [
    "$$ \\Delta x $$"
   ]
  },
  {
   "cell_type": "markdown",
   "metadata": {},
   "source": [
    "Velocity is the rate of change of displacement over time and the acceleration is the rate of change of velocity over time. They both can be described as the following:"
   ]
  },
  {
   "cell_type": "markdown",
   "metadata": {},
   "source": [
    "$$ \\Delta v\\ and\\ a $$"
   ]
  },
  {
   "cell_type": "markdown",
   "metadata": {},
   "source": [
    "The average velocity and acceleration is also described as the following:"
   ]
  },
  {
   "cell_type": "markdown",
   "metadata": {},
   "source": [
    "$$ \\bar v= \\frac{\\Delta x}{\\Delta t}\\ and\\ \\bar a= \\frac{\\Delta v}{\\Delta t} $$"
   ]
  },
  {
   "cell_type": "markdown",
   "metadata": {},
   "source": [
    "Initial velocity of an object means the velocity at time t = 0. We know that velocity is the rate of change of displacement with time. Final velocity of a body is given as the velocity at time t. In a constant acceleration motion, the following equations can be used to solve an object's motion:"
   ]
  },
  {
   "cell_type": "markdown",
   "metadata": {},
   "source": [
    "$$ v_f= v_i + a\\Delta t $$ $$v_f^2= v_i^2 + 2a\\Delta x$$ $$ \\Delta x= \\frac{1}{2}(v_f+v_i)\\Delta t $$ $$ \\Delta x= v_i\\Delta t+ \\frac{1}{2}a\\Delta t^2 $$"
   ]
  },
  {
   "cell_type": "code",
   "execution_count": null,
   "metadata": {
    "collapsed": true
   },
   "outputs": [],
   "source": []
  }
 ],
 "metadata": {
  "kernelspec": {
   "display_name": "Python 3",
   "language": "python",
   "name": "python3"
  },
  "language_info": {
   "codemirror_mode": {
    "name": "ipython",
    "version": 3
   },
   "file_extension": ".py",
   "mimetype": "text/x-python",
   "name": "python",
   "nbconvert_exporter": "python",
   "pygments_lexer": "ipython3",
   "version": "3.4.3"
  }
 },
 "nbformat": 4,
 "nbformat_minor": 0
}
