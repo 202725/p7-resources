{
 "cells": [
  {
   "cell_type": "markdown",
   "metadata": {},
   "source": [
    "# One Dimensional Motion "
   ]
  },
  {
   "cell_type": "markdown",
   "metadata": {},
   "source": [
    "### One Dimensional Motion is Motion along  a straight line in one direction.\n",
    "Motion is described in terms of Displacement (x), Velocity (v), and Acceleration (a). Motion depends upon the objects frame of refference, a \"coordinate system\" that specifies the precise location of an object. "
   ]
  },
  {
   "cell_type": "markdown",
   "metadata": {},
   "source": [
    "### Displacement the change in position of an object is found with \n",
    "### $\\Delta x = x_f-x_i$\n",
    "Displacement= final position -initial position\n",
    "\n",
    "Where an object started and ended does not completely describe its motion knowing the speed is important when evaluating motion "
   ]
  },
  {
   "cell_type": "markdown",
   "metadata": {},
   "source": [
    "   ### Avg Velocity = Change in posotion / Change in time = Displacement /Time Interval\n",
    "   ## $\\Delta x = x_f-x_i / t_f-t_i$\n",
    "   ### Total Displacement / Time Interval \n",
    "   \n"
   ]
  },
  {
   "cell_type": "markdown",
   "metadata": {},
   "source": [
    " Velocity and speed ae not the ssame, velocity describes motion with both a direction and magnitude idiating hw fast something is moving. Speed has no direction only magnitude \n",
    " ### Acceleration, the rate of change of velocity in a given time acceleration has direction and magnitude "
   ]
  },
  {
   "cell_type": "code",
   "execution_count": null,
   "metadata": {
    "collapsed": true
   },
   "outputs": [],
   "source": [
    "## $\\a^avg = Delta x Frac Delta t = Frac x_f - x_i / t_f - t_i "
   ]
  }
 ],
 "metadata": {
  "kernelspec": {
   "display_name": "Python 3",
   "language": "python",
   "name": "python3"
  },
  "language_info": {
   "codemirror_mode": {
    "name": "ipython",
    "version": 3
   },
   "file_extension": ".py",
   "mimetype": "text/x-python",
   "name": "python",
   "nbconvert_exporter": "python",
   "pygments_lexer": "ipython3",
   "version": "3.5.1"
  }
 },
 "nbformat": 4,
 "nbformat_minor": 0
}
